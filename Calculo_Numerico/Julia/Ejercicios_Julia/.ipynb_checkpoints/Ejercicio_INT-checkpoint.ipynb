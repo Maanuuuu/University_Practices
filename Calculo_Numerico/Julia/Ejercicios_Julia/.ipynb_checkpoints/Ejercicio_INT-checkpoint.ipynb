{
 "cells": [
  {
   "cell_type": "markdown",
   "id": "4564803f-4e57-4abb-acda-6bfa622e45f3",
   "metadata": {},
   "source": [
    "# **Práctica de Julia**"
   ]
  },
  {
   "cell_type": "markdown",
   "id": "67b0c84c-fb9f-49e6-96f8-87daa43b383e",
   "metadata": {},
   "source": [
    "---"
   ]
  },
  {
   "cell_type": "markdown",
   "id": "af26e152-94ce-432b-89e9-0f02dad13047",
   "metadata": {},
   "source": [
    "### Sencillo de Suma"
   ]
  },
  {
   "cell_type": "code",
   "execution_count": 2,
   "id": "95c00254-e862-432d-a997-17146fd7c63b",
   "metadata": {},
   "outputs": [
    {
     "name": "stdout",
     "output_type": "stream",
     "text": [
      "520"
     ]
    }
   ],
   "source": [
    "x = 50\n",
    "y = 470\n",
    "result = x + y\n",
    "print(result)"
   ]
  },
  {
   "cell_type": "markdown",
   "id": "23333131-cfe2-4373-a048-2ab8fdba889f",
   "metadata": {},
   "source": [
    "**x** y **y** son variables, que generalmente que darse como cualquier nombres pero no palabras reservadas para asignar de tipo de datos.\n",
    "Y aquí el variable \"result\" se asignó el resultado de la suma de **x** y **y**.\n",
    "Y al final imprime el resultado de la suma, que seria **result**."
   ]
  },
  {
   "cell_type": "markdown",
   "id": "f0693fc9-3866-4f71-9326-e3c791d4c94a",
   "metadata": {},
   "source": [
    "---"
   ]
  },
  {
   "cell_type": "markdown",
   "id": "cdf6fb63-61bc-44aa-843c-140d34fb080a",
   "metadata": {},
   "source": [
    "### Ejemplo de ciclo for"
   ]
  },
  {
   "cell_type": "code",
   "execution_count": 10,
   "id": "da5dd93f-537b-4b66-ab0e-dd7bf3160ec7",
   "metadata": {},
   "outputs": [
    {
     "name": "stdout",
     "output_type": "stream",
     "text": [
      "2\n",
      "3\n",
      "4\n",
      "5\n",
      "6\n",
      "7\n",
      "8\n",
      "9\n",
      "10\n",
      "11\n"
     ]
    }
   ],
   "source": [
    "for i in 1:10\n",
    "    i += 1\n",
    "    println(i)\n",
    "end"
   ]
  },
  {
   "cell_type": "markdown",
   "id": "77a427d6-3cdb-441a-9ee6-cc0ca2992dec",
   "metadata": {},
   "source": [
    "En este codigo, se muestra como se trabaja el ciclo **for**, el cual seria está trabajando de un rango de uno hasta diez, y dentro el ciclo **for**, el **i** se suma más uno, y luego se lo imprime, y por último se debe colocar el **end** para terminar el ciclo **for**."
   ]
  },
  {
   "cell_type": "markdown",
   "id": "b7ba7f6e-d033-4f3d-abac-a75364530022",
   "metadata": {},
   "source": [
    "---"
   ]
  },
  {
   "cell_type": "markdown",
   "id": "108e7d5f-feb8-4cd0-a852-825158f5835e",
   "metadata": {},
   "source": [
    "### Imprimir directamente un tipo string"
   ]
  },
  {
   "cell_type": "code",
   "execution_count": 11,
   "id": "3bd116be-f8ae-406a-947b-dbb310e9bacc",
   "metadata": {},
   "outputs": [
    {
     "name": "stdout",
     "output_type": "stream",
     "text": [
      "Julia"
     ]
    }
   ],
   "source": [
    "print(\"Julia\")"
   ]
  },
  {
   "cell_type": "markdown",
   "id": "54c5b0ed-2005-49bd-8ab9-55496d08af36",
   "metadata": {},
   "source": [
    "Aquí nada solo utilizar **print** para imprimir, el cual imprime el tipo string (debe recordar colocar 2 doble comilla)"
   ]
  },
  {
   "cell_type": "markdown",
   "id": "a4cfe751-3316-400e-bcf1-9bb006bfd309",
   "metadata": {},
   "source": [
    "---"
   ]
  },
  {
   "cell_type": "markdown",
   "id": "b4827498-e3c7-4108-94ee-3ecb6997d30d",
   "metadata": {},
   "source": [
    "### Un ejemplo sencillo para conocer como utilizar una matriz"
   ]
  },
  {
   "cell_type": "code",
   "execution_count": 15,
   "id": "0db67f02-fe16-4736-a211-da7aa2714859",
   "metadata": {},
   "outputs": [
    {
     "name": "stdout",
     "output_type": "stream",
     "text": [
      "1\n",
      "3\n"
     ]
    }
   ],
   "source": [
    "x = [[1,2,3],[3,4,5]]\n",
    "for i in 1:2\n",
    "    println(x[i][1])\n",
    "end"
   ]
  },
  {
   "cell_type": "markdown",
   "id": "68337c61-6808-4f38-8ba3-37e63691c5fb",
   "metadata": {},
   "source": [
    "Aquí, nosotros llamamos la variable **x** que trabajar de forma como una matriz, el cual que tiene 2 filas y 3 columnas, después aquí utilizó el ciclo for para imprimir el número de **i** para fila y su primer columna, debe recordar, en comparación con otros lenguajes, indicar la posición de una matriz, sea de columna o fila, se trabaja **1**, no como anteriormente como **0**."
   ]
  },
  {
   "cell_type": "markdown",
   "id": "f23b5b4b-6ace-4fd9-afc6-825d19697994",
   "metadata": {},
   "source": [
    "---"
   ]
  },
  {
   "cell_type": "markdown",
   "id": "f1ed8866-341b-4fec-86dc-3fba10a27189",
   "metadata": {},
   "source": [
    "### Para ver como asignar un numero complejo"
   ]
  },
  {
   "cell_type": "code",
   "execution_count": 3,
   "id": "b6aa718c-5449-40f3-866f-c0f1ba6eab3b",
   "metadata": {},
   "outputs": [
    {
     "data": {
      "text/plain": [
       "1 + 1im"
      ]
     },
     "execution_count": 3,
     "metadata": {},
     "output_type": "execute_result"
    }
   ],
   "source": [
    "x = 1+ 1im"
   ]
  },
  {
   "cell_type": "markdown",
   "id": "e87242fa-f62d-438f-b291-e628df9f26f4",
   "metadata": {},
   "source": [
    "Aqui, utilizo el variable de **x**, para asignar un tipo de numero complejo, ¿cómo asignarlo? Lo que debe hacer es, colocando una signo igualdad, escribir el numero que tiene el **i**, y colocando el signo **+** o **-** para asignar el numero **j**."
   ]
  },
  {
   "cell_type": "markdown",
   "id": "010c1c65-1778-488d-bb60-fdabef047a78",
   "metadata": {},
   "source": [
    "---"
   ]
  },
  {
   "cell_type": "markdown",
   "id": "6f8213fc-3823-49a0-8da1-5e6f108a758a",
   "metadata": {},
   "source": [
    "### Cómo concantenarlo dos tipos de String"
   ]
  },
  {
   "cell_type": "code",
   "execution_count": 25,
   "id": "13f0f4a5-8123-476e-9529-c0203cd5d3ad",
   "metadata": {},
   "outputs": [
    {
     "name": "stdout",
     "output_type": "stream",
     "text": [
      "32 HOLLLL"
     ]
    }
   ],
   "source": [
    "numm = 32\n",
    "rr = string(numm)\n",
    "print(rr * \" HOLLLL\")"
   ]
  },
  {
   "cell_type": "markdown",
   "id": "88d745f8-626a-4122-a80a-d162308e1579",
   "metadata": {},
   "source": [
    "Aqui, como podemos ver, principio, escribimos el variable **numm** para asignar un numero tipo int, luego, lo convertimos en tipo string, utilizando el **string**, colocando el **numm** dentro de un paréntesis, luego utiliza el **print** y el signo **\"*\"**, que dentro en paréntesis, concatenando el **numm** y un string (como ejemplo dice \"HOLLLL\")."
   ]
  },
  {
   "cell_type": "code",
   "execution_count": null,
   "id": "f5e6e63c-cd02-45a3-86b2-a877a6bfe77d",
   "metadata": {},
   "outputs": [],
   "source": []
  }
 ],
 "metadata": {
  "kernelspec": {
   "display_name": "Julia 1.10.2",
   "language": "julia",
   "name": "julia-1.10"
  },
  "language_info": {
   "file_extension": ".jl",
   "mimetype": "application/julia",
   "name": "julia",
   "version": "1.10.2"
  }
 },
 "nbformat": 4,
 "nbformat_minor": 5
}
